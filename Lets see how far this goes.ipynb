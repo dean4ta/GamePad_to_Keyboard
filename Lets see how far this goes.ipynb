{
 "cells": [
  {
   "cell_type": "code",
   "execution_count": 1,
   "metadata": {},
   "outputs": [
    {
     "name": "stdout",
     "output_type": "stream",
     "text": [
      "Requirement already satisfied: inputs in c:\\users\\dean4ta\\anaconda3\\lib\\site-packages\n"
     ]
    }
   ],
   "source": [
    "!pip install inputs"
   ]
  },
  {
   "cell_type": "code",
   "execution_count": 2,
   "metadata": {},
   "outputs": [
    {
     "name": "stdout",
     "output_type": "stream",
     "text": [
      "we found a gamepad.\n"
     ]
    }
   ],
   "source": [
    "from inputs import devices"
   ]
  },
  {
   "cell_type": "code",
   "execution_count": 3,
   "metadata": {},
   "outputs": [
    {
     "data": {
      "text/plain": [
       "<inputs.DeviceManager at 0x269d62d7588>"
      ]
     },
     "execution_count": 3,
     "metadata": {},
     "output_type": "execute_result"
    }
   ],
   "source": [
    "devices"
   ]
  },
  {
   "cell_type": "code",
   "execution_count": 4,
   "metadata": {},
   "outputs": [
    {
     "data": {
      "text/plain": [
       "[inputs.GamePad(\"/dev/input/by_id/usb-Microsoft_Corporation_Controller_0-event-joystick\")]"
      ]
     },
     "execution_count": 4,
     "metadata": {},
     "output_type": "execute_result"
    }
   ],
   "source": [
    "devices.gamepads"
   ]
  },
  {
   "cell_type": "code",
   "execution_count": 1,
   "metadata": {},
   "outputs": [
    {
     "name": "stdout",
     "output_type": "stream",
     "text": [
      "we found a gamepad.\n"
     ]
    }
   ],
   "source": [
    "from inputs import get_gamepad"
   ]
  },
  {
   "cell_type": "code",
   "execution_count": 2,
   "metadata": {
    "scrolled": true
   },
   "outputs": [
    {
     "name": "stdout",
     "output_type": "stream",
     "text": [
      "Key BTN_EAST 1\n",
      "Sync SYN_REPORT 0\n",
      "Key BTN_EAST 0\n",
      "Sync SYN_REPORT 0\n",
      "Key BTN_NORTH 1\n",
      "Sync SYN_REPORT 0\n",
      "Key BTN_NORTH 0\n",
      "Sync SYN_REPORT 0\n"
     ]
    }
   ],
   "source": [
    "events = []\n",
    "stop = 0\n",
    "while(1):\n",
    "    events = get_gamepad()\n",
    "    for event in events:\n",
    "        print(event.ev_type, event.code, event.state)\n",
    "    if stop == 1:\n",
    "        break\n",
    "    if event.state == 0:\n",
    "        if event.code == 'BTN_NORTH':\n",
    "            stop = 1"
   ]
  },
  {
   "cell_type": "code",
   "execution_count": 40,
   "metadata": {},
   "outputs": [
    {
     "data": {
      "text/plain": [
       "int"
      ]
     },
     "execution_count": 40,
     "metadata": {},
     "output_type": "execute_result"
    }
   ],
   "source": [
    "type(event.state)"
   ]
  },
  {
   "cell_type": "code",
   "execution_count": 43,
   "metadata": {},
   "outputs": [
    {
     "name": "stdout",
     "output_type": "stream",
     "text": [
      "yes\n"
     ]
    }
   ],
   "source": [
    "if event.state == 0:\n",
    "    if event.code == 'SYN_REPORT':\n",
    "        print('yes')"
   ]
  },
  {
   "cell_type": "code",
   "execution_count": 28,
   "metadata": {},
   "outputs": [
    {
     "name": "stdout",
     "output_type": "stream",
     "text": [
      "Requirement already satisfied: pyautogui in c:\\users\\dean4ta\\anaconda3\\lib\\site-packages\n",
      "Requirement already satisfied: pymsgbox in c:\\users\\dean4ta\\anaconda3\\lib\\site-packages (from pyautogui)\n",
      "Requirement already satisfied: Pillow in c:\\users\\dean4ta\\anaconda3\\lib\\site-packages (from pyautogui)\n",
      "Requirement already satisfied: PyTweening>=1.0.1 in c:\\users\\dean4ta\\anaconda3\\lib\\site-packages (from pyautogui)\n",
      "Requirement already satisfied: pyscreeze in c:\\users\\dean4ta\\anaconda3\\lib\\site-packages (from pyautogui)\n",
      "Requirement already satisfied: olefile in c:\\users\\dean4ta\\anaconda3\\lib\\site-packages (from Pillow->pyautogui)\n"
     ]
    }
   ],
   "source": [
    "!pip install pyautogui"
   ]
  },
  {
   "cell_type": "code",
   "execution_count": 3,
   "metadata": {
    "collapsed": true
   },
   "outputs": [],
   "source": [
    "from pyautogui import typewrite, hotkey"
   ]
  },
  {
   "cell_type": "code",
   "execution_count": 9,
   "metadata": {
    "collapsed": true
   },
   "outputs": [],
   "source": [
    "hotkey('ctrl', 'd')"
   ]
  },
  {
   "cell_type": "code",
   "execution_count": 11,
   "metadata": {},
   "outputs": [],
   "source": [
    "events = []\n",
    "stop = 0\n",
    "dPadXY = [0,0]\n",
    "dPadXY2 = [0,0]\n",
    "dPadStart = [0,0]\n",
    "dPadEnd = [0,0]\n",
    "while(1):\n",
    "    events = get_gamepad()\n",
    "    for event in events:\n",
    "        pass\n",
    "        #print(event.ev_type, event.code, event.state)\n",
    "        \n",
    "        \n",
    "    ## The Keyboard input ##\n",
    "    \n",
    "    #listen for D-Pad input (save whatever the last D-Pad input is)\n",
    "    if event.code[0:8] == 'ABS_HAT0':\n",
    "        if event.code[8] == 'X':\n",
    "            dPadXY[0] = event.state\n",
    "            #print(dPadX)\n",
    "        if event.code[8] == 'Y':\n",
    "            dPadXY[1] = event.state\n",
    "            #print(dPadY)\n",
    "    \n",
    "    if event.code == 'BTN_SOUTH':\n",
    "        if event.state == 1:\n",
    "            print('enter listen mode')\n",
    "            dPadStart = dPadXY\n",
    "            #print starting D-Pad state\n",
    "            if dPadXY[0] == 1:\n",
    "                xStr = 'right'\n",
    "            elif dPadXY[0] == -1:\n",
    "                xStr = 'left'\n",
    "            else:\n",
    "                xStr = ''\n",
    "            if dPadXY[1] == 1:\n",
    "                yStr = 'down'\n",
    "            elif dPadXY[1] == -1:\n",
    "                yStr = 'up'\n",
    "            else:\n",
    "                yStr = ''\n",
    "            print('starting D-Pad State:', xStr, yStr)\n",
    "            \n",
    "            while (1):\n",
    "                events = get_gamepad()\n",
    "                for event in events: #for loop used for printing event info\n",
    "                    pass\n",
    "                    #print(event.ev_type, event.code, event.state)\n",
    "                #grab the ending D-Pad State\n",
    "                if event.code[0:8] == 'ABS_HAT0':\n",
    "                    if event.code[8] == 'X':\n",
    "                        dPadXY2[0] = event.state\n",
    "                    if event.code[8] == 'Y':\n",
    "                        dPadXY2[1] = event.state\n",
    "                \n",
    "                if event.code == 'BTN_SOUTH':\n",
    "                    if event.state == 0:\n",
    "                        #print ending D-Pad State\n",
    "                        if dPadXY2[0] == 1:\n",
    "                            xStr = 'right'\n",
    "                        elif dPadXY2[0] == -1:\n",
    "                            xStr = 'left'\n",
    "                        else:\n",
    "                            xStr = ''\n",
    "                        if dPadXY2[1] == 1:\n",
    "                            yStr = 'down'\n",
    "                        elif dPadXY2[1] == -1:\n",
    "                            yStr = 'up'\n",
    "                        else:\n",
    "                            yStr = ''\n",
    "                        dPadEnd = dPadXY2\n",
    "                        print('ending D-Pad State:', xStr, yStr)\n",
    "                        #grab the last line\n",
    "                        events = get_gamepad()\n",
    "                        for event in events:\n",
    "                            pass\n",
    "                            #print(event.ev_type, event.code, event.state)\n",
    "                        print(dPadStart, dPadEnd)\n",
    "                        \n",
    "                        '''output the keyboard'''\n",
    "                        #a\n",
    "                        if dPadStart == [-1,-1] and dPadEnd == [-1,-1]:\n",
    "                            typewrite('a')\n",
    "                        #b\n",
    "                        if dPadStart == [0,0] and dPadEnd == [1,0]:\n",
    "                            typewrite('b')\n",
    "                        #c\n",
    "                        if dPadStart == [0,0] and dPadEnd == [-1,0]:\n",
    "                            typewrite('c')\n",
    "                        #d\n",
    "                        if dPadStart == [0,0] and dPadEnd == [0,1]:\n",
    "                            typewrite('d')\n",
    "                        #e\n",
    "                        if dPadStart == [0,1] and dPadEnd == [0,1]:\n",
    "                            typewrite('e')\n",
    "                        #f\n",
    "                        if dPadStart == [1,1] and dPadEnd == [0,0]:\n",
    "                            typewrite('f')\n",
    "                        #g\n",
    "                        if dPadStart == [0,0] and dPadEnd == [-1,1]:\n",
    "                            typewrite('g')\n",
    "                        #h\n",
    "                        if dPadStart == [-1,0] and dPadEnd == [-1,0]:\n",
    "                            typewrite('h')\n",
    "                        #i\n",
    "                        if dPadStart == [1,-1] and dPadEnd == [1,-1]:\n",
    "                            typewrite('i')\n",
    "                        #j\n",
    "                        if dPadStart == [0,0] and dPadEnd == [1,1]:\n",
    "                            typewrite('j')\n",
    "                        #k\n",
    "                        if dPadStart == [-1,0] and dPadEnd == [0,0]:\n",
    "                            typewrite('k')\n",
    "                        #l\n",
    "                        if dPadStart == [0,-1] and dPadEnd == [0,0]:\n",
    "                            typewrite('l')\n",
    "                        #m\n",
    "                        if dPadStart == [1,0] and dPadEnd == [0,0]:\n",
    "                            typewrite('m')\n",
    "                        #n\n",
    "                        if dPadStart == [0,-1] and dPadEnd == [0,-1]:\n",
    "                            typewrite('n')\n",
    "                        #o\n",
    "                        if dPadStart == [0,0] and dPadEnd == [0,0]:\n",
    "                            typewrite('o')\n",
    "                        #p\n",
    "                        if dPadStart == [0,0] and dPadEnd == [1,-1]:\n",
    "                            typewrite('p')\n",
    "                        #q\n",
    "                        if dPadStart == [0,0] and dPadEnd == [-1,-1]:\n",
    "                            typewrite('q')\n",
    "                        #r\n",
    "                        if dPadStart == [1,0] and dPadEnd == [1,0]:\n",
    "                            typewrite('r')\n",
    "                        #s\n",
    "                        if dPadStart == [1,1] and dPadEnd == [1,1]:\n",
    "                            typewrite('s')\n",
    "                        #t\n",
    "                        if dPadStart == [-1,1] and dPadEnd == [-1,1]:\n",
    "                            typewrite('t')\n",
    "                        #u\n",
    "                        if dPadStart == [0,0] and dPadEnd == [0,-1]:\n",
    "                            typewrite('u')\n",
    "                        #v\n",
    "                        if dPadStart == [-1,-1] and dPadEnd == [0,0]:\n",
    "                            typewrite('v')\n",
    "                        #w\n",
    "                        if dPadStart == [0,1] and dPadEnd == [0,0]:\n",
    "                            typewrite('w')\n",
    "                        #x\n",
    "                        if dPadStart == [1,-1] and dPadEnd == [0,0]:\n",
    "                            typewrite('x')\n",
    "                        #y\n",
    "                        if dPadStart == [-1,1] and dPadEnd == [0,0]:\n",
    "                            typewrite('y')\n",
    "                        #z\n",
    "                        if dPadStart == [0,1] and dPadEnd == [1,0]:\n",
    "                            typewrite('l')\n",
    "                            \n",
    "                        dPadEnd = [0,0]\n",
    "                        \n",
    "                        \n",
    "                        break\n",
    "    \n",
    "                        \n",
    "    \n",
    "    #stop condition (this is placed after for loop so program can clear final line from the queue)\n",
    "    if stop == 1:\n",
    "        break\n",
    "    #check to trigger stop condition\n",
    "    if event.state == 0:\n",
    "        if event.code == 'BTN_NORTH':\n",
    "            stop = 1"
   ]
  },
  {
   "cell_type": "code",
   "execution_count": 18,
   "metadata": {},
   "outputs": [
    {
     "name": "stdout",
     "output_type": "stream",
     "text": [
      "enter listen mode\n",
      "starting D-Pad State:  \n",
      "ending D-Pad State: right up\n",
      "[0, 0] [1, -1]\n",
      "[0, 0]\n",
      "enter listen mode\n",
      "starting D-Pad State:  \n",
      "ending D-Pad State: left up\n",
      "[0, 0] [-1, -1]\n",
      "[0, 0]\n",
      "enter listen mode\n",
      "starting D-Pad State:  \n",
      "ending D-Pad State: left up\n",
      "[0, 0] [-1, -1]\n",
      "[1, 0]\n",
      "[1, -1]\n",
      "[0, -1]\n",
      "[0, 0]\n",
      "[1, 0]\n",
      "[0, 0]\n",
      "[0, 1]\n",
      "[-1, 1]\n",
      "[0, 1]\n",
      "[0, 0]\n",
      "enter listen mode\n",
      "starting D-Pad State:  \n",
      "ending D-Pad State: left up\n",
      "[0, 0] [-1, -1]\n"
     ]
    }
   ],
   "source": [
    "events = []\n",
    "stop = 0\n",
    "dPadXY = [0,0]\n",
    "dPadStart = [0,0]\n",
    "dPadEnd = [0,0]\n",
    "while(1):\n",
    "    events = get_gamepad()\n",
    "    for event in events:\n",
    "        pass\n",
    "        #print(event.ev_type, event.code, event.state)\n",
    "        \n",
    "        \n",
    "    ## The Keyboard input ##\n",
    "    \n",
    "    #listen for D-Pad input (save whatever the last D-Pad input is)\n",
    "    if event.code[0:8] == 'ABS_HAT0':\n",
    "        if event.code[8] == 'X':\n",
    "            dPadXY[0] = event.state\n",
    "        if event.code[8] == 'Y':\n",
    "            dPadXY[1] = event.state\n",
    "        print(dPadXY)\n",
    "    \n",
    "    if event.code == 'BTN_SOUTH':\n",
    "        if event.state == 1:\n",
    "            print('enter listen mode')\n",
    "            dPadStart = dPadXY\n",
    "            #print starting D-Pad state\n",
    "            if dPadXY[0] == 1:\n",
    "                xStr = 'right'\n",
    "            elif dPadXY[0] == -1:\n",
    "                xStr = 'left'\n",
    "            else:\n",
    "                xStr = ''\n",
    "            if dPadXY[1] == 1:\n",
    "                yStr = 'down'\n",
    "            elif dPadXY[1] == -1:\n",
    "                yStr = 'up'\n",
    "            else:\n",
    "                yStr = ''\n",
    "            print('starting D-Pad State:', xStr, yStr)\n",
    "            \n",
    "            while (1):\n",
    "                events = get_gamepad()\n",
    "                for event in events: #for loop used for printing event info\n",
    "                    pass\n",
    "                    #print(event.ev_type, event.code, event.state)\n",
    "                #grab the ending D-Pad State\n",
    "                if event.code[0:8] == 'ABS_HAT0':\n",
    "                    if event.code[8] == 'X':\n",
    "                        dPadXY2[0] = event.state\n",
    "                    if event.code[8] == 'Y':\n",
    "                        dPadXY2[1] = event.state\n",
    "                \n",
    "                if event.code == 'BTN_SOUTH':\n",
    "                    if event.state == 0:\n",
    "                        #print ending D-Pad State\n",
    "                        if dPadXY2[0] == 1:\n",
    "                            xStr = 'right'\n",
    "                        elif dPadXY2[0] == -1:\n",
    "                            xStr = 'left'\n",
    "                        else:\n",
    "                            xStr = ''\n",
    "                        if dPadXY2[1] == 1:\n",
    "                            yStr = 'down'\n",
    "                        elif dPadXY2[1] == -1:\n",
    "                            yStr = 'up'\n",
    "                        else:\n",
    "                            yStr = ''\n",
    "                        dPadEnd = dPadXY2\n",
    "                        print('ending D-Pad State:', xStr, yStr)\n",
    "                        #grab the last line\n",
    "                        events = get_gamepad()\n",
    "                        for event in events:\n",
    "                            pass\n",
    "                            #print(event.ev_type, event.code, event.state)\n",
    "                        print(dPadStart, dPadEnd)\n",
    "                        \n",
    "                        '''output the keyboard'''\n",
    "                        #a\n",
    "                        if dPadStart == [-1,-1] and dPadEnd == [-1,-1]:\n",
    "                            typewrite('a')\n",
    "                        #b\n",
    "                        if dPadStart == [0,0] and dPadEnd == [1,0]:\n",
    "                            typewrite('b')\n",
    "                        #c\n",
    "                        if dPadStart == [0,0] and dPadEnd == [-1,0]:\n",
    "                            typewrite('c')\n",
    "                        #d\n",
    "                        if dPadStart == [0,0] and dPadEnd == [0,1]:\n",
    "                            typewrite('d')\n",
    "                        #e\n",
    "                        if dPadStart == [0,1] and dPadEnd == [0,1]:\n",
    "                            typewrite('e')\n",
    "                        #f\n",
    "                        if dPadStart == [1,1] and dPadEnd == [0,0]:\n",
    "                            typewrite('f')\n",
    "                        #g\n",
    "                        if dPadStart == [0,0] and dPadEnd == [-1,1]:\n",
    "                            typewrite('g')\n",
    "                        #h\n",
    "                        if dPadStart == [-1,0] and dPadEnd == [-1,0]:\n",
    "                            typewrite('h')\n",
    "                        #i\n",
    "                        if dPadStart == [1,-1] and dPadEnd == [1,-1]:\n",
    "                            typewrite('i')\n",
    "                        #j\n",
    "                        if dPadStart == [0,0] and dPadEnd == [1,1]:\n",
    "                            typewrite('j')\n",
    "                        #k\n",
    "                        if dPadStart == [-1,0] and dPadEnd == [0,0]:\n",
    "                            typewrite('k')\n",
    "                        #l\n",
    "                        if dPadStart == [0,-1] and dPadEnd == [0,0]:\n",
    "                            typewrite('l')\n",
    "                        #m\n",
    "                        if dPadStart == [1,0] and dPadEnd == [0,0]:\n",
    "                            typewrite('m')\n",
    "                        #n\n",
    "                        if dPadStart == [0,-1] and dPadEnd == [0,-1]:\n",
    "                            typewrite('n')\n",
    "                        #o\n",
    "                        if dPadStart == [0,0] and dPadEnd == [0,0]:\n",
    "                            typewrite('o')\n",
    "                        #p\n",
    "                        if dPadStart == [0,0] and dPadEnd == [1,-1]:\n",
    "                            typewrite('p')\n",
    "                        #q\n",
    "                        if dPadStart == [0,0] and dPadEnd == [-1,-1]:\n",
    "                            typewrite('q')\n",
    "                        #r\n",
    "                        if dPadStart == [1,0] and dPadEnd == [1,0]:\n",
    "                            typewrite('r')\n",
    "                        #s\n",
    "                        if dPadStart == [1,1] and dPadEnd == [1,1]:\n",
    "                            typewrite('s')\n",
    "                        #t\n",
    "                        if dPadStart == [-1,1] and dPadEnd == [-1,1]:\n",
    "                            typewrite('t')\n",
    "                        #u\n",
    "                        if dPadStart == [0,0] and dPadEnd == [0,-1]:\n",
    "                            typewrite('u')\n",
    "                        #v\n",
    "                        if dPadStart == [-1,-1] and dPadEnd == [0,0]:\n",
    "                            typewrite('v')\n",
    "                        #w\n",
    "                        if dPadStart == [0,1] and dPadEnd == [0,0]:\n",
    "                            typewrite('w')\n",
    "                        #x\n",
    "                        if dPadStart == [1,-1] and dPadEnd == [0,0]:\n",
    "                            typewrite('x')\n",
    "                        #y\n",
    "                        if dPadStart == [-1,1] and dPadEnd == [0,0]:\n",
    "                            typewrite('y')\n",
    "                        #z\n",
    "                        if dPadStart == [0,1] and dPadEnd == [1,0]:\n",
    "                            typewrite('l')\n",
    "                            \n",
    "                        dPadEnd = [0,0]\n",
    "                        dPadStart = [0,0]\n",
    "                        dPadXY = [0,0]\n",
    "                        \n",
    "                        break\n",
    "    \n",
    "                        \n",
    "    \n",
    "    #stop condition (this is placed after for loop so program can clear final line from the queue)\n",
    "    if stop == 1:\n",
    "        break\n",
    "    #check to trigger stop condition\n",
    "    if event.state == 0:\n",
    "        if event.code == 'BTN_NORTH':\n",
    "            stop = 1"
   ]
  },
  {
   "cell_type": "code",
   "execution_count": null,
   "metadata": {},
   "outputs": [],
   "source": [
    "pqqq"
   ]
  },
  {
   "cell_type": "code",
   "execution_count": null,
   "metadata": {
    "collapsed": true
   },
   "outputs": [],
   "source": []
  },
  {
   "cell_type": "code",
   "execution_count": null,
   "metadata": {
    "collapsed": true
   },
   "outputs": [],
   "source": []
  },
  {
   "cell_type": "code",
   "execution_count": 69,
   "metadata": {
    "collapsed": true
   },
   "outputs": [],
   "source": [
    "string = 'hello World'"
   ]
  },
  {
   "cell_type": "code",
   "execution_count": 77,
   "metadata": {},
   "outputs": [
    {
     "data": {
      "text/plain": [
       "'W'"
      ]
     },
     "execution_count": 77,
     "metadata": {},
     "output_type": "execute_result"
    }
   ],
   "source": [
    "string[6]"
   ]
  },
  {
   "cell_type": "code",
   "execution_count": 122,
   "metadata": {
    "collapsed": true
   },
   "outputs": [],
   "source": [
    "??devices.gamepads"
   ]
  },
  {
   "cell_type": "code",
   "execution_count": null,
   "metadata": {
    "collapsed": true
   },
   "outputs": [],
   "source": []
  }
 ],
 "metadata": {
  "kernelspec": {
   "display_name": "Python 3",
   "language": "python",
   "name": "python3"
  },
  "language_info": {
   "codemirror_mode": {
    "name": "ipython",
    "version": 3
   },
   "file_extension": ".py",
   "mimetype": "text/x-python",
   "name": "python",
   "nbconvert_exporter": "python",
   "pygments_lexer": "ipython3",
   "version": "3.6.1"
  }
 },
 "nbformat": 4,
 "nbformat_minor": 2
}
